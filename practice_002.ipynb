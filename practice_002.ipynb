{
  "nbformat": 4,
  "nbformat_minor": 0,
  "metadata": {
    "colab": {
      "provenance": [],
      "toc_visible": true,
      "authorship_tag": "ABX9TyPzg44pdnZG4Z1itXW04lq3",
      "include_colab_link": true
    },
    "kernelspec": {
      "name": "python3",
      "display_name": "Python 3"
    },
    "language_info": {
      "name": "python"
    }
  },
  "cells": [
    {
      "cell_type": "markdown",
      "metadata": {
        "id": "view-in-github",
        "colab_type": "text"
      },
      "source": [
        "<a href=\"https://colab.research.google.com/github/dchlee25/Python/blob/main/practice_002.ipynb\" target=\"_parent\"><img src=\"https://colab.research.google.com/assets/colab-badge.svg\" alt=\"Open In Colab\"/></a>"
      ]
    },
    {
      "cell_type": "code",
      "execution_count": 5,
      "metadata": {
        "id": "hKqZqOkZBBuz",
        "colab": {
          "base_uri": "https://localhost:8080/"
        },
        "outputId": "3bf58b06-f027-4bca-af5d-f8491bf405da"
      },
      "outputs": [
        {
          "output_type": "execute_result",
          "data": {
            "text/plain": [
              "[1, 2, 3, 4, 5]"
            ]
          },
          "metadata": {},
          "execution_count": 5
        }
      ],
      "source": [
        "myList = [1, 2, 3, 4, 5]\n",
        "myList"
      ]
    },
    {
      "cell_type": "code",
      "source": [
        "dict_comprehension = {}"
      ],
      "metadata": {
        "id": "3PUrkwCTlP37"
      },
      "execution_count": 8,
      "outputs": []
    },
    {
      "cell_type": "code",
      "source": [
        "dict_comprehension = {i:i**2 for i in myList if i%2==1}\n",
        "dict_comprehension"
      ],
      "metadata": {
        "colab": {
          "base_uri": "https://localhost:8080/"
        },
        "id": "dnymRVW2kkEo",
        "outputId": "262d0b10-60d1-4282-d805-f97a072fa166"
      },
      "execution_count": 10,
      "outputs": [
        {
          "output_type": "execute_result",
          "data": {
            "text/plain": [
              "{1: 1, 3: 9, 5: 25}"
            ]
          },
          "metadata": {},
          "execution_count": 10
        }
      ]
    },
    {
      "cell_type": "markdown",
      "source": [
        "**튜플 매개변수**"
      ],
      "metadata": {
        "id": "wiYN4G3SrEl2"
      }
    },
    {
      "cell_type": "code",
      "source": [
        "def add_function(a,*args):\n",
        "    print(f\"a: {a}\")\n",
        "    print(\"===\"*7)\n",
        "    result = 0\n",
        "    for arg in args:\n",
        "        print(arg)\n",
        "        result += arg\n",
        "    print('==='*7)\n",
        "    print(f\"sum: {result}\")\n"
      ],
      "metadata": {
        "id": "5VokXXPAqPVL"
      },
      "execution_count": 12,
      "outputs": []
    },
    {
      "cell_type": "code",
      "source": [
        "add_function(1,2,3,4,5,6,7)"
      ],
      "metadata": {
        "colab": {
          "base_uri": "https://localhost:8080/"
        },
        "id": "eiTCtR9aqt24",
        "outputId": "0903312c-3c6f-4358-f9af-1e868107c6dc"
      },
      "execution_count": 13,
      "outputs": [
        {
          "output_type": "stream",
          "name": "stdout",
          "text": [
            "a: 1\n",
            "=====================\n",
            "2\n",
            "3\n",
            "4\n",
            "5\n",
            "6\n",
            "7\n",
            "=====================\n",
            "sum: 27\n"
          ]
        }
      ]
    },
    {
      "cell_type": "markdown",
      "source": [
        "**dict 매개변수**"
      ],
      "metadata": {
        "id": "c59DOzBSrPhs"
      }
    },
    {
      "cell_type": "code",
      "source": [
        "def add_function(**kwargs):\n",
        "    total_age = 0\n",
        "    for name, age in kwargs.items():\n",
        "        print(f\"이름: {name}, 나이: {age}\")\n",
        "        total_age += sum\n",
        "    print(\"===\"*7)\n",
        "    print(f\"전체 나이 합계: {total_age}\")"
      ],
      "metadata": {
        "id": "vU8EMJCarMx5"
      },
      "execution_count": 20,
      "outputs": []
    },
    {
      "cell_type": "code",
      "source": [
        "add_function()"
      ],
      "metadata": {
        "colab": {
          "base_uri": "https://localhost:8080/"
        },
        "id": "aIXNyl_kt_o_",
        "outputId": "a1893030-6903-47b7-a7ba-5e106b3a850f"
      },
      "execution_count": 21,
      "outputs": [
        {
          "output_type": "stream",
          "name": "stdout",
          "text": [
            "=====================\n",
            "전체 나이 합계: 0\n"
          ]
        }
      ]
    },
    {
      "cell_type": "code",
      "source": [
        "add_function(dchlee=47, pkw=45, lhg=19)"
      ],
      "metadata": {
        "colab": {
          "base_uri": "https://localhost:8080/",
          "height": 329
        },
        "id": "ZgibF12dr-V6",
        "outputId": "0782859e-c5f1-46a6-c5d4-76d4308e1596"
      },
      "execution_count": 25,
      "outputs": [
        {
          "output_type": "stream",
          "name": "stdout",
          "text": [
            "이름: dchlee, 나이: 47\n"
          ]
        },
        {
          "output_type": "error",
          "ename": "TypeError",
          "evalue": "ignored",
          "traceback": [
            "\u001b[0;31m---------------------------------------------------------------------------\u001b[0m",
            "\u001b[0;31mTypeError\u001b[0m                                 Traceback (most recent call last)",
            "\u001b[0;32m<ipython-input-25-5e5f80920da8>\u001b[0m in \u001b[0;36m<cell line: 1>\u001b[0;34m()\u001b[0m\n\u001b[0;32m----> 1\u001b[0;31m \u001b[0madd_function\u001b[0m\u001b[0;34m(\u001b[0m\u001b[0mdchlee\u001b[0m\u001b[0;34m=\u001b[0m\u001b[0;36m47\u001b[0m\u001b[0;34m,\u001b[0m \u001b[0mpkw\u001b[0m\u001b[0;34m=\u001b[0m\u001b[0;36m45\u001b[0m\u001b[0;34m,\u001b[0m \u001b[0mlhg\u001b[0m\u001b[0;34m=\u001b[0m\u001b[0;36m19\u001b[0m\u001b[0;34m)\u001b[0m\u001b[0;34m\u001b[0m\u001b[0;34m\u001b[0m\u001b[0m\n\u001b[0m",
            "\u001b[0;32m<ipython-input-20-5a756e7af8b1>\u001b[0m in \u001b[0;36madd_function\u001b[0;34m(**kwargs)\u001b[0m\n\u001b[1;32m      3\u001b[0m     \u001b[0;32mfor\u001b[0m \u001b[0mname\u001b[0m\u001b[0;34m,\u001b[0m \u001b[0mage\u001b[0m \u001b[0;32min\u001b[0m \u001b[0mkwargs\u001b[0m\u001b[0;34m.\u001b[0m\u001b[0mitems\u001b[0m\u001b[0;34m(\u001b[0m\u001b[0;34m)\u001b[0m\u001b[0;34m:\u001b[0m\u001b[0;34m\u001b[0m\u001b[0;34m\u001b[0m\u001b[0m\n\u001b[1;32m      4\u001b[0m         \u001b[0mprint\u001b[0m\u001b[0;34m(\u001b[0m\u001b[0;34mf\"이름: {name}, 나이: {age}\"\u001b[0m\u001b[0;34m)\u001b[0m\u001b[0;34m\u001b[0m\u001b[0;34m\u001b[0m\u001b[0m\n\u001b[0;32m----> 5\u001b[0;31m         \u001b[0mtotal_age\u001b[0m \u001b[0;34m+=\u001b[0m \u001b[0msum\u001b[0m\u001b[0;34m\u001b[0m\u001b[0;34m\u001b[0m\u001b[0m\n\u001b[0m\u001b[1;32m      6\u001b[0m     \u001b[0mprint\u001b[0m\u001b[0;34m(\u001b[0m\u001b[0;34m\"===\"\u001b[0m\u001b[0;34m*\u001b[0m\u001b[0;36m7\u001b[0m\u001b[0;34m)\u001b[0m\u001b[0;34m\u001b[0m\u001b[0;34m\u001b[0m\u001b[0m\n\u001b[1;32m      7\u001b[0m     \u001b[0mprint\u001b[0m\u001b[0;34m(\u001b[0m\u001b[0;34mf\"전체 나이 합계: {total_age}\"\u001b[0m\u001b[0;34m)\u001b[0m\u001b[0;34m\u001b[0m\u001b[0;34m\u001b[0m\u001b[0m\n",
            "\u001b[0;31mTypeError\u001b[0m: unsupported operand type(s) for +=: 'int' and 'builtin_function_or_method'"
          ]
        }
      ]
    },
    {
      "cell_type": "code",
      "source": [
        "a = lambda x: x*10 if x<2 else (x**2 if x<4 else x+10)"
      ],
      "metadata": {
        "id": "QboAVL-gwcww"
      },
      "execution_count": 27,
      "outputs": []
    },
    {
      "cell_type": "code",
      "source": [
        "a(1)"
      ],
      "metadata": {
        "colab": {
          "base_uri": "https://localhost:8080/"
        },
        "id": "w9foyBb_wojs",
        "outputId": "b78fd17a-0416-4d5d-eea8-1513e72e7b3c"
      },
      "execution_count": 28,
      "outputs": [
        {
          "output_type": "execute_result",
          "data": {
            "text/plain": [
              "10"
            ]
          },
          "metadata": {},
          "execution_count": 28
        }
      ]
    },
    {
      "cell_type": "code",
      "source": [
        "a(3)"
      ],
      "metadata": {
        "colab": {
          "base_uri": "https://localhost:8080/"
        },
        "id": "XteVFl4dwvnX",
        "outputId": "10e6e0d9-cfe3-4125-cec4-b399bc0c962f"
      },
      "execution_count": 29,
      "outputs": [
        {
          "output_type": "execute_result",
          "data": {
            "text/plain": [
              "9"
            ]
          },
          "metadata": {},
          "execution_count": 29
        }
      ]
    },
    {
      "cell_type": "code",
      "source": [
        "a(4)"
      ],
      "metadata": {
        "colab": {
          "base_uri": "https://localhost:8080/"
        },
        "id": "XBdDgZA1ww5v",
        "outputId": "a20f342e-7d05-4447-b1fa-cca0462f8be3"
      },
      "execution_count": 30,
      "outputs": [
        {
          "output_type": "execute_result",
          "data": {
            "text/plain": [
              "14"
            ]
          },
          "metadata": {},
          "execution_count": 30
        }
      ]
    },
    {
      "cell_type": "markdown",
      "source": [
        "## **map**"
      ],
      "metadata": {
        "id": "3BnjzSUXxm-C"
      }
    },
    {
      "cell_type": "code",
      "source": [
        "sample = [1,2,3,4,5,6,7,8,9,10,11,12,13]\n",
        "result = map(lambda x: x*2, sample)\n",
        "list(result)"
      ],
      "metadata": {
        "colab": {
          "base_uri": "https://localhost:8080/"
        },
        "id": "mwDZIip5xrR0",
        "outputId": "b87fb6d0-4ef5-4bf7-8252-b927f196ba8b"
      },
      "execution_count": 35,
      "outputs": [
        {
          "output_type": "execute_result",
          "data": {
            "text/plain": [
              "[2, 4, 6, 8, 10, 12, 14, 16, 18, 20, 22, 24, 26]"
            ]
          },
          "metadata": {},
          "execution_count": 35
        }
      ]
    },
    {
      "cell_type": "markdown",
      "source": [
        "## **filter**"
      ],
      "metadata": {
        "id": "T571PFHtyXi6"
      }
    },
    {
      "cell_type": "code",
      "source": [
        "result = filter(lambda x: True if(x%2==1) else False,sample)\n",
        "list(result)"
      ],
      "metadata": {
        "colab": {
          "base_uri": "https://localhost:8080/"
        },
        "id": "RZWeY5yJye2f",
        "outputId": "3e2171ee-cf08-4722-a2d6-56dbb9f3f452"
      },
      "execution_count": 36,
      "outputs": [
        {
          "output_type": "execute_result",
          "data": {
            "text/plain": [
              "[1, 3, 5, 7, 9, 11, 13]"
            ]
          },
          "metadata": {},
          "execution_count": 36
        }
      ]
    },
    {
      "cell_type": "markdown",
      "source": [
        "함수를 filter로 처리"
      ],
      "metadata": {
        "id": "MmQPf-tjzN5s"
      }
    },
    {
      "cell_type": "code",
      "source": [
        "def three_multiple(x):\n",
        "    if x%3==0:\n",
        "        return True\n",
        "    else:\n",
        "        return False"
      ],
      "metadata": {
        "id": "NQyUtTQYzA4T"
      },
      "execution_count": 37,
      "outputs": []
    },
    {
      "cell_type": "code",
      "source": [
        "result = filter(three_multiple, sample)\n",
        "list(result)"
      ],
      "metadata": {
        "colab": {
          "base_uri": "https://localhost:8080/"
        },
        "id": "8bOQYz7RzK5B",
        "outputId": "84753261-1191-44d3-9f0c-372d489f6235"
      },
      "execution_count": 38,
      "outputs": [
        {
          "output_type": "execute_result",
          "data": {
            "text/plain": [
              "[3, 6, 9, 12]"
            ]
          },
          "metadata": {},
          "execution_count": 38
        }
      ]
    },
    {
      "cell_type": "markdown",
      "source": [
        "**ZIP**"
      ],
      "metadata": {
        "id": "6Ys315tNzl9Q"
      }
    },
    {
      "cell_type": "code",
      "source": [
        "sample1 = [1,2,3]\n",
        "sample2 = [4,5,6]\n",
        "sample3 = [7,8,9]"
      ],
      "metadata": {
        "id": "OlgPST0TziZa"
      },
      "execution_count": 39,
      "outputs": []
    },
    {
      "cell_type": "code",
      "source": [
        "result = zip(sample1,sample2,sample3)\n",
        "list(result)"
      ],
      "metadata": {
        "colab": {
          "base_uri": "https://localhost:8080/"
        },
        "id": "KGV7Z1Tsz6Su",
        "outputId": "7b19da8d-f000-4f24-f6fd-59ea7e59bb74"
      },
      "execution_count": 40,
      "outputs": [
        {
          "output_type": "execute_result",
          "data": {
            "text/plain": [
              "[(1, 4, 7), (2, 5, 8), (3, 6, 9)]"
            ]
          },
          "metadata": {},
          "execution_count": 40
        }
      ]
    },
    {
      "cell_type": "markdown",
      "source": [
        "**zip을 이용해서 dict만들기**"
      ],
      "metadata": {
        "id": "RmAGftY30JqU"
      }
    },
    {
      "cell_type": "markdown",
      "source": [
        "zip 활용"
      ],
      "metadata": {
        "id": "469vVaoz0Ydl"
      }
    },
    {
      "cell_type": "code",
      "source": [
        "number = [1,2,3,4]\n",
        "name = ['이동철','박경원','이한결','이가온']"
      ],
      "metadata": {
        "id": "Ec-xLnOP0Z3y"
      },
      "execution_count": 41,
      "outputs": []
    },
    {
      "cell_type": "code",
      "source": [
        "number_name = list(zip(number,name))\n",
        "number_name"
      ],
      "metadata": {
        "colab": {
          "base_uri": "https://localhost:8080/"
        },
        "id": "YjhKqtzd0PMf",
        "outputId": "9be38037-a6eb-47ec-c945-03c173fa7834"
      },
      "execution_count": 44,
      "outputs": [
        {
          "output_type": "execute_result",
          "data": {
            "text/plain": [
              "[(1, '이동철'), (2, '박경원'), (3, '이한결'), (4, '이가온')]"
            ]
          },
          "metadata": {},
          "execution_count": 44
        }
      ]
    },
    {
      "cell_type": "markdown",
      "source": [
        "### **enumerate**"
      ],
      "metadata": {
        "id": "TsL_7T7e1Gua"
      }
    },
    {
      "cell_type": "markdown",
      "source": [
        "일반 range() 함수"
      ],
      "metadata": {
        "id": "IZlbXoND1Y5L"
      }
    },
    {
      "cell_type": "code",
      "source": [
        "for value in range(1,10,2):\n",
        "    print(value)"
      ],
      "metadata": {
        "colab": {
          "base_uri": "https://localhost:8080/"
        },
        "id": "WHyCIEkY1coW",
        "outputId": "3a63087e-361c-421e-9a99-7ea038c07fcb"
      },
      "execution_count": 45,
      "outputs": [
        {
          "output_type": "stream",
          "name": "stdout",
          "text": [
            "1\n",
            "3\n",
            "5\n",
            "7\n",
            "9\n"
          ]
        }
      ]
    },
    {
      "cell_type": "markdown",
      "source": [
        "enumerate 함수 사용, index를 return받은 경우"
      ],
      "metadata": {
        "id": "XW7j7fa_1h2f"
      }
    },
    {
      "cell_type": "code",
      "source": [
        "'for idx, value in enumerate(range(1,10,2)):'\n",
        "for idx, value in enumerate(range(1,10,2), start=100):\n",
        "    print(f\"index: {idx}, value: {value}\")"
      ],
      "metadata": {
        "colab": {
          "base_uri": "https://localhost:8080/"
        },
        "id": "A2xm_fZP1nlK",
        "outputId": "a8db735f-2e2c-4801-d499-af9b3fadc732"
      },
      "execution_count": 51,
      "outputs": [
        {
          "output_type": "stream",
          "name": "stdout",
          "text": [
            "index: 100, value: 1\n",
            "index: 101, value: 3\n",
            "index: 102, value: 5\n",
            "index: 103, value: 7\n",
            "index: 104, value: 9\n"
          ]
        }
      ]
    },
    {
      "cell_type": "markdown",
      "source": [
        "### **패키지-모듈**"
      ],
      "metadata": {
        "id": "nwK-0MgB1PKn"
      }
    },
    {
      "cell_type": "code",
      "source": [
        "#출처 : pythonstudy.xyz\n",
        "Image('http://pythonstudy.xyz/images/basics/python-package.png')"
      ],
      "metadata": {
        "colab": {
          "base_uri": "https://localhost:8080/",
          "height": 201
        },
        "id": "nRkMHqJ01K6B",
        "outputId": "c865c151-f46f-42bf-f7a9-33101843d445"
      },
      "execution_count": 53,
      "outputs": [
        {
          "output_type": "error",
          "ename": "NameError",
          "evalue": "ignored",
          "traceback": [
            "\u001b[0;31m---------------------------------------------------------------------------\u001b[0m",
            "\u001b[0;31mNameError\u001b[0m                                 Traceback (most recent call last)",
            "\u001b[0;32m<ipython-input-53-25c413986ca7>\u001b[0m in \u001b[0;36m<cell line: 2>\u001b[0;34m()\u001b[0m\n\u001b[1;32m      1\u001b[0m \u001b[0;31m#출처 : pythonstudy.xyz\u001b[0m\u001b[0;34m\u001b[0m\u001b[0;34m\u001b[0m\u001b[0m\n\u001b[0;32m----> 2\u001b[0;31m \u001b[0mImage\u001b[0m\u001b[0;34m(\u001b[0m\u001b[0;34m'http://pythonstudy.xyz/images/basics/python-package.png'\u001b[0m\u001b[0;34m)\u001b[0m\u001b[0;34m\u001b[0m\u001b[0;34m\u001b[0m\u001b[0m\n\u001b[0m",
            "\u001b[0;31mNameError\u001b[0m: name 'Image' is not defined"
          ]
        }
      ]
    },
    {
      "cell_type": "code",
      "source": [
        "import random"
      ],
      "metadata": {
        "id": "wGI0P-M00rnS"
      },
      "execution_count": 54,
      "outputs": []
    },
    {
      "cell_type": "code",
      "source": [
        "random"
      ],
      "metadata": {
        "colab": {
          "base_uri": "https://localhost:8080/"
        },
        "id": "PB5F7pYk4D5E",
        "outputId": "fc6f73a1-fee7-4e90-b4b3-2feb8b73cfc1"
      },
      "execution_count": 55,
      "outputs": [
        {
          "output_type": "execute_result",
          "data": {
            "text/plain": [
              "<module 'random' from '/usr/lib/python3.10/random.py'>"
            ]
          },
          "metadata": {},
          "execution_count": 55
        }
      ]
    },
    {
      "cell_type": "code",
      "source": [
        "import random as rd"
      ],
      "metadata": {
        "id": "-oI5UjAk4E4H"
      },
      "execution_count": 56,
      "outputs": []
    },
    {
      "cell_type": "code",
      "source": [
        "rd.shuffle(sample)"
      ],
      "metadata": {
        "id": "WnB9ptG54OED"
      },
      "execution_count": 58,
      "outputs": []
    },
    {
      "cell_type": "code",
      "source": [
        "sample"
      ],
      "metadata": {
        "colab": {
          "base_uri": "https://localhost:8080/"
        },
        "id": "dfI92A7z4QvQ",
        "outputId": "28cfb1e1-71e9-46b1-8697-20550efddfaf"
      },
      "execution_count": 59,
      "outputs": [
        {
          "output_type": "execute_result",
          "data": {
            "text/plain": [
              "[6, 5, 7, 3, 13, 11, 10, 2, 8, 12, 9, 1, 4]"
            ]
          },
          "metadata": {},
          "execution_count": 59
        }
      ]
    }
  ]
}